{
 "cells": [
  {
   "cell_type": "code",
   "execution_count": 9,
   "metadata": {},
   "outputs": [
    {
     "data": {
      "text/plain": [
       "tom.bob.jane"
      ]
     },
     "execution_count": 9,
     "metadata": {},
     "output_type": "execute_result"
    }
   ],
   "source": [
    "class Company(object):\n",
    "    def __init__(self, employee_list):\n",
    "        self.employee = employee_list\n",
    "    \n",
    "    def __str___(self):\n",
    "        return \".\".join(self.employee)\n",
    "    \n",
    "    def __repr__(self):\n",
    "        return \".\".join(self.employee)\n",
    "        \n",
    "company = Company([\"tom\", \"bob\", \"jane\"])\n",
    "company"
   ]
  },
  {
   "cell_type": "code",
   "execution_count": 14,
   "metadata": {},
   "outputs": [
    {
     "name": "stdout",
     "output_type": "stream",
     "text": [
      "x:3, y:5\n"
     ]
    }
   ],
   "source": [
    "class MyVector:\n",
    "    def __init__(self, x, y):\n",
    "        self.x = x\n",
    "        self.y = y\n",
    "    \n",
    "    def __add__(self, other_instance):\n",
    "        re_vector = MyVector(self.x + other_instance.x, self.y + other_instance.y)\n",
    "        return re_vector\n",
    "    \n",
    "    def __str__(self):\n",
    "        return \"x:{x}, y:{y}\".format(x=self.x, y=self.y)\n",
    "    \n",
    "first_vec = MyVector(1, 2)\n",
    "second_vec = MyVector(2, 3)\n",
    "print(first_vec + second_vec)"
   ]
  },
  {
   "cell_type": "code",
   "execution_count": null,
   "metadata": {},
   "outputs": [],
   "source": []
  }
 ],
 "metadata": {
  "kernelspec": {
   "display_name": "Python 3",
   "language": "python",
   "name": "python3"
  },
  "language_info": {
   "codemirror_mode": {
    "name": "ipython",
    "version": 3
   },
   "file_extension": ".py",
   "mimetype": "text/x-python",
   "name": "python",
   "nbconvert_exporter": "python",
   "pygments_lexer": "ipython3",
   "version": "3.7.3"
  }
 },
 "nbformat": 4,
 "nbformat_minor": 2
}
